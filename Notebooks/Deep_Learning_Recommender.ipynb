{
  "cells": [
    {
      "cell_type": "markdown",
      "metadata": {
        "id": "GYirkYeYkrBT",
        "colab_type": "text"
      },
      "source": [
        ""
      ]
    },
    {
      "cell_type": "markdown",
      "metadata": {
        "id": "yTEVjK40a5PV",
        "colab_type": "text"
      },
      "source": [
        "#Deep Learning for Movie Recommendation"
      ]
    },
    {
      "cell_type": "markdown",
      "metadata": {
        "id": "eEuiE-SPa73Z",
        "colab_type": "text"
      },
      "source": [
        "###Uninstall latest version of keras and tensorflow and installing older stable versions due to compatibility issues"
      ]
    },
    {
      "cell_type": "code",
      "metadata": {
        "id": "_tSau1lhqKxq",
        "colab_type": "code",
        "colab": {}
      },
      "source": [
        "!pip uninstall keras\n",
        "!pip uninstall tensorflow"
      ],
      "execution_count": null,
      "outputs": []
    },
    {
      "cell_type": "code",
      "metadata": {
        "id": "IfPJEr9bqNyg",
        "colab_type": "code",
        "colab": {}
      },
      "source": [
        "!pip install Keras==1.2.2\n",
        "!pip install tensorflow==1.8.0"
      ],
      "execution_count": null,
      "outputs": []
    },
    {
      "cell_type": "markdown",
      "metadata": {
        "id": "04-G4vNnbXwh",
        "colab_type": "text"
      },
      "source": [
        "### Downloading Dataset, first check if the dataset already exists in files or not"
      ]
    },
    {
      "cell_type": "code",
      "metadata": {
        "id": "KIUKG-m8r2HI",
        "colab_type": "code",
        "colab": {}
      },
      "source": [
        "!wget https://raw.githubusercontent.com/khanhnamle1994/movielens/master/users.csv\n",
        "!wget https://raw.githubusercontent.com/khanhnamle1994/movielens/master/ratings.csv\n",
        "!wget https://raw.githubusercontent.com/khanhnamle1994/movielens/master/movies.csv"
      ],
      "execution_count": null,
      "outputs": []
    },
    {
      "cell_type": "markdown",
      "metadata": {
        "id": "Q13m2V2Tbkw6",
        "colab_type": "text"
      },
      "source": [
        "### Loading Dataset"
      ]
    },
    {
      "cell_type": "code",
      "metadata": {
        "id": "HIlRVwh0rgot",
        "colab_type": "code",
        "colab": {}
      },
      "source": [
        "import math\n",
        "import numpy as np\n",
        "import pandas as pd\n",
        "import matplotlib.pyplot as plt\n",
        "\n",
        "# Reading ratings file\n",
        "ratings = pd.read_csv('ratings.csv', sep='\\t', encoding='latin-1', \n",
        "                      usecols=['user_id', 'movie_id', 'user_emb_id', 'movie_emb_id', 'rating'])\n",
        "\n",
        "# Reading ratings file\n",
        "users = pd.read_csv('users.csv', sep='\\t', encoding='latin-1', \n",
        "                    usecols=['user_id', 'gender', 'zipcode', 'age_desc', 'occ_desc'])\n",
        "\n",
        "# Reading ratings file\n",
        "movies = pd.read_csv('movies.csv', sep='\\t', encoding='latin-1', \n",
        "                     usecols=['movie_id', 'title', 'genres'])"
      ],
      "execution_count": null,
      "outputs": []
    },
    {
      "cell_type": "code",
      "metadata": {
        "id": "nB2NEN7mtz6A",
        "colab_type": "code",
        "colab": {}
      },
      "source": [
        "max_userid = ratings['user_id'].drop_duplicates().max()\n",
        "max_movieid = ratings['movie_id'].drop_duplicates().max()"
      ],
      "execution_count": null,
      "outputs": []
    },
    {
      "cell_type": "code",
      "metadata": {
        "id": "dqPNrV6gsMDf",
        "colab_type": "code",
        "colab": {}
      },
      "source": [
        "K_FACTORS = 100 # The number of dimensional embeddings for movies and users"
      ],
      "execution_count": null,
      "outputs": []
    },
    {
      "cell_type": "markdown",
      "metadata": {
        "id": "MWGietwbbwTX",
        "colab_type": "text"
      },
      "source": [
        "Creating a training and validation set and optimize the number of embeddings by minimizing the RMSE. Intuitively, the RMSE will decrease on the training set as the number of embeddings increases (because I'm approximating the original ratings matrix with a higher rank matrix). Here I create a training set by shuffling randomly the values from the original ratings dataset."
      ]
    },
    {
      "cell_type": "code",
      "metadata": {
        "id": "foHE08js4fh7",
        "colab_type": "code",
        "colab": {
          "base_uri": "https://localhost:8080/",
          "height": 68
        },
        "outputId": "3126d362-08df-40b7-9666-8f38049a5e8e"
      },
      "source": [
        "# Create training set\n",
        "shuffled_ratings = ratings.sample(frac=1.0)\n",
        "\n",
        "# Shuffling users\n",
        "Users = shuffled_ratings['user_emb_id'].values\n",
        "print('Users:', Users, ', shape =', Users.shape)\n",
        "\n",
        "\n",
        "# Shuffling movies\n",
        "Movies = shuffled_ratings['movie_emb_id'].values\n",
        "print ('Movies:', Movies, ', shape =', Movies.shape)\n",
        "\n",
        "# Shuffling ratings\n",
        "Ratings = shuffled_ratings['rating'].values\n",
        "print( 'Ratings:', Ratings, ', shape =', Ratings.shape)"
      ],
      "execution_count": null,
      "outputs": []
    },
    {
      "cell_type": "markdown",
      "metadata": {
        "id": "PijYujv-b8Ba",
        "colab_type": "text"
      },
      "source": [
        "### Building the model"
      ]
    },
    {
      "cell_type": "markdown",
      "metadata": {
        "id": "2yV6JQ0IcE8T",
        "colab_type": "text"
      },
      "source": [
        "Created a sparse matrix factoring algorithm in Keras in CFModel. Here are the main components:\n",
        "- A left embedding layer that creates a Users by Latent Factors matrix.\n",
        "- A right embedding layer that creates a Movies by Latent Factors matrix.\n",
        "- When the input to these layers are (i) a user id and (ii) a movie id, they'll return the latent factor vectors for the user and the movie, respectively.\n",
        "- A merge layer that takes the dot product of these two latent vectors to return the predicted rating."
      ]
    },
    {
      "cell_type": "code",
      "metadata": {
        "id": "WNUQJtgJqZym",
        "colab_type": "code",
        "colab": {}
      },
      "source": [
        "import numpy as np\n",
        "# Import Keras libraries\n",
        "from keras.callbacks import Callback, EarlyStopping, ModelCheckpoint\n",
        "from keras.layers import Embedding, Reshape, Merge\n",
        "from keras.models import Sequential\n",
        "\n",
        "class CFModel(Sequential):\n",
        "\n",
        "    # The constructor for the class\n",
        "    def __init__(self, n_users, m_items, k_factors, **kwargs):\n",
        "        # P is the embedding layer that creates an User by latent factors matrix.\n",
        "        # If the intput is a user_id, P returns the latent factor vector for that user.\n",
        "        P = Sequential()\n",
        "        P.add(Embedding(n_users, k_factors, input_length=1))\n",
        "        P.add(Reshape((k_factors,)))\n",
        "\n",
        "        # Q is the embedding layer that creates a Movie by latent factors matrix.\n",
        "        # If the input is a movie_id, Q returns the latent factor vector for that movie.\n",
        "        Q = Sequential()\n",
        "        Q.add(Embedding(m_items, k_factors, input_length=1))\n",
        "        Q.add(Reshape((k_factors,)))\n",
        "\n",
        "        super(CFModel, self).__init__(**kwargs)\n",
        "        \n",
        "        # The Merge layer takes the dot product of user and movie latent factor vectors to return the corresponding rating.\n",
        "        self.add(Merge([P, Q], mode='dot', dot_axes=1))\n",
        "\n",
        "    # The rate function to predict user's rating of unrated items\n",
        "    def rate(self, user_id, item_id):\n",
        "        return self.predict([np.array([user_id]), np.array([item_id])])[0][0]"
      ],
      "execution_count": null,
      "outputs": []
    },
    {
      "cell_type": "markdown",
      "metadata": {
        "id": "JUc16yibcii-",
        "colab_type": "text"
      },
      "source": [
        "I then compile the model using Mean Squared Error (MSE) as the loss function and the AdaMax learning algorithm."
      ]
    },
    {
      "cell_type": "code",
      "metadata": {
        "id": "YA8nuFHrsjRX",
        "colab_type": "code",
        "colab": {
          "base_uri": "https://localhost:8080/",
          "height": 88
        },
        "outputId": "f2713035-ad72-418c-a9d0-d1cab07e8939"
      },
      "source": [
        "# Define model\n",
        "model = CFModel(max_userid, max_movieid, K_FACTORS)\n",
        "# Compile the model using MSE as the loss function and the AdaMax learning algorithm\n",
        "model.compile(loss='mse', optimizer='adamax')"
      ],
      "execution_count": null,
      "outputs": []
    },
    {
      "cell_type": "markdown",
      "metadata": {
        "id": "tdH4_dvacoW3",
        "colab_type": "text"
      },
      "source": [
        "### Train the Model"
      ]
    },
    {
      "cell_type": "markdown",
      "metadata": {
        "id": "AvVb1pPUcptM",
        "colab_type": "text"
      },
      "source": [
        "Now we need to train the model. This step will be the most-time consuming one. In my particular case, for our dataset with nearly 1 million ratings, almost 6,000 users and 4,000 movies, I trained the model in roughly 6 minutes per epoch (30 epochs ~ 3 hours) in the Colab Instance with the default configuration. I spitted the training and validataion data with ratio of 90/10."
      ]
    },
    {
      "cell_type": "code",
      "metadata": {
        "id": "RfaYyY4vqjEG",
        "colab_type": "code",
        "colab": {}
      },
      "source": [
        "callbacks = [EarlyStopping(patience=2),\n",
        "            ModelCheckpoint(filepath='model.h5',save_best_only=True)]\n",
        "\n",
        "# Use 30 epochs, 90% training data, 10% validation data \n",
        "history = model.fit([Users, Movies], Ratings, nb_epoch=30, validation_split=.1, verbose=2, callbacks=callbacks)"
      ],
      "execution_count": null,
      "outputs": []
    },
    {
      "cell_type": "code",
      "metadata": {
        "id": "4Z1PvDur4OCp",
        "colab_type": "code",
        "colab": {
          "base_uri": "https://localhost:8080/",
          "height": 34
        },
        "outputId": "57a043ea-de18-4149-8efb-1d6b35d6c888"
      },
      "source": [
        "min_val_loss, idx = min((val, idx) for (idx, val) in enumerate(history.history['val_loss']))\n",
        "print('Minimum RMSE at epoch', '{:d}'.format(idx+1), '=', '{:.4f}'.format(math.sqrt(min_val_loss)))"
      ],
      "execution_count": null,
      "outputs": []
    },
    {
      "cell_type": "markdown",
      "metadata": {
        "id": "c3zQzkPdei08",
        "colab_type": "text"
      },
      "source": [
        "### Predict the Ratings"
      ]
    },
    {
      "cell_type": "markdown",
      "metadata": {
        "id": "OdeAc87xeoZj",
        "colab_type": "text"
      },
      "source": [
        "The next step is to actually predict the ratings a random user will give to a random movie. Below I apply the freshly trained deep learning model for all the users and all the movies, using 100 dimensional embeddings for each of them."
      ]
    },
    {
      "cell_type": "code",
      "metadata": {
        "id": "Fs642cpz86Tt",
        "colab_type": "code",
        "colab": {}
      },
      "source": [
        "# Use the pre-trained model\n",
        "trained_model = CFModel(max_userid, max_movieid, K_FACTORS)\n",
        "# Load weights\n",
        "trained_model.load_weights('model.h5')"
      ],
      "execution_count": null,
      "outputs": []
    },
    {
      "cell_type": "markdown",
      "metadata": {
        "id": "9R018lAQe2M1",
        "colab_type": "text"
      },
      "source": [
        "My random test user is has ID 2000. You can change this ID to see different results"
      ]
    },
    {
      "cell_type": "code",
      "metadata": {
        "id": "NSMSTc_deyDT",
        "colab_type": "code",
        "colab": {}
      },
      "source": [
        "TEST_USER = 2000"
      ],
      "execution_count": null,
      "outputs": []
    },
    {
      "cell_type": "code",
      "metadata": {
        "id": "03WQ8EWUCKMf",
        "colab_type": "code",
        "colab": {
          "base_uri": "https://localhost:8080/",
          "height": 80
        },
        "outputId": "4b14447a-6a9f-494b-8da5-05394fb84408"
      },
      "source": [
        "users[users['user_id'] == TEST_USER]"
      ],
      "execution_count": null,
      "outputs": []
    },
    {
      "cell_type": "markdown",
      "metadata": {
        "id": "w7GkhqDxe_kG",
        "colab_type": "text"
      },
      "source": [
        "Here We define the function to predict user's rating of unrated items, using the rate function inside the CFModel class."
      ]
    },
    {
      "cell_type": "code",
      "metadata": {
        "id": "IdTb2wkvCWO0",
        "colab_type": "code",
        "colab": {}
      },
      "source": [
        "def predict_rating(user_id, movie_id):\n",
        "    return trained_model.rate(user_id - 1, movie_id - 1)"
      ],
      "execution_count": null,
      "outputs": []
    },
    {
      "cell_type": "markdown",
      "metadata": {
        "id": "wuePyy8KfHn0",
        "colab_type": "text"
      },
      "source": [
        "Here You can see the top 20 movies that user 2000 has already rated, including the predictions column showing the values that used 2000 would have rated based on the newly defined predict_rating function."
      ]
    },
    {
      "cell_type": "code",
      "metadata": {
        "id": "3NSiRifMCZlB",
        "colab_type": "code",
        "colab": {
          "base_uri": "https://localhost:8080/",
          "height": 669
        },
        "outputId": "9b2a80e1-caca-4c16-eb34-9995113be019"
      },
      "source": [
        "user_ratings = ratings[ratings['user_id'] == TEST_USER][['user_id', 'movie_id', 'rating']]\n",
        "user_ratings['prediction'] = user_ratings.apply(lambda x: predict_rating(TEST_USER, x['movie_id']), axis=1)\n",
        "user_ratings.sort_values(by='rating', \n",
        "                         ascending=False).merge(movies, \n",
        "                                                on='movie_id', \n",
        "                                                how='inner', \n",
        "                                                suffixes=['_u', '_m']).head(20)"
      ],
      "execution_count": null,
      "outputs": []
    },
    {
      "cell_type": "markdown",
      "metadata": {
        "id": "3fbzZDtQfQZe",
        "colab_type": "text"
      },
      "source": [
        "No surpise that these top movies all have 5-start rating. Some of the prediction values seem off (those with value 3.7, 3.8, 3.9 etc.)."
      ]
    },
    {
      "cell_type": "markdown",
      "metadata": {
        "id": "jUTdpj6Efb-E",
        "colab_type": "text"
      },
      "source": [
        "### Recommend Movies"
      ]
    },
    {
      "cell_type": "markdown",
      "metadata": {
        "id": "z68CSLBlfavM",
        "colab_type": "text"
      },
      "source": [
        "Here I make a recommendation list of unrated 20 movies sorted by prediction value for user 2000. Let's see it."
      ]
    },
    {
      "cell_type": "code",
      "metadata": {
        "id": "AlSLRTxvCbjD",
        "colab_type": "code",
        "colab": {
          "base_uri": "https://localhost:8080/",
          "height": 669
        },
        "outputId": "8554d2c4-9b76-4b61-97c6-da0761797442"
      },
      "source": [
        "recommendations = ratings[ratings['movie_id'].isin(user_ratings['movie_id']) == False][['movie_id']].drop_duplicates()\n",
        "recommendations['prediction'] = recommendations.apply(lambda x: predict_rating(TEST_USER, x['movie_id']), axis=1)\n",
        "recommendations.sort_values(by='prediction',\n",
        "                          ascending=False).merge(movies,\n",
        "                                                 on='movie_id',\n",
        "                                                 how='inner',\n",
        "                                                 suffixes=['_u', '_m']).head(20)"
      ],
      "execution_count": null,
      "outputs": []
    }
  ],
  "metadata": {
    "colab": {
      "name": "Movie Recommendation.ipynb",
      "provenance": []
    },
    "kernelspec": {
      "name": "python_defaultSpec_1594923404609",
      "display_name": "Python 3.8.4 32-bit"
    },
    "accelerator": "GPU"
  },
  "nbformat": 4,
  "nbformat_minor": 0
}