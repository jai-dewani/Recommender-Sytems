{
 "cells": [
  {
   "cell_type": "code",
   "execution_count": null,
   "metadata": {},
   "outputs": [],
   "source": [
    "## Knowledge Graph## Knowledge Graph\n"
   ]
  },
  {
   "cell_type": "code",
   "execution_count": null,
   "metadata": {},
   "outputs": [],
   "source": [
    "### Taking new raw data and converting it to well formated data\n",
    "**Note: Will require StanfordNLP\n",
    "Parsor as a dependencies to be installed on local system and then it can be run locally**### Taking new raw data and converting it to well formated data\n",
    "**Note: Will require StanfordNLP\n",
    "Parsor as a dependencies to be installed on local system and then it can be run locally**### Taking new raw data and converting it to well formated data\n",
    "**Note: Will require StanfordNLP\n",
    "Parsor as a dependencies to be installed on local system and then it can be run locally**### Taking new raw data and converting it to well formated data\n",
    "**Note: Will require StanfordNLP\n",
    "Parsor as a dependencies to be installed on local system and then it can be run locally**"
   ]
  },
  {
   "cell_type": "code",
   "execution_count": null,
   "metadata": {},
   "outputs": [],
   "source": [
    "import os\n",
    "from nltk.parse.stanford import StanfordParser\n",
    "from nltk.tree import ParentedTree, Tree\n",
    "import json\n",
    "from collections import Counter\n",
    "\n",
    "import pandas as pd\n",
    "import networkx as nx\n",
    "from matplotlib import pyplot as plt\n",
    "import re "
   ]
  },
  {
   "cell_type": "code",
   "execution_count": null,
   "metadata": {},
   "outputs": [],
   "source": [
    "os.environ[\"STANFORD-PARSER\"] = \"/home/utkarsh/Semantics Extraction/stanford-parser\"\n",
    "os.environ[\"STANFORD-MODELS\"] = \"/home/utkarsh/Semantics Extraction/stanford-parser\"\n",
    "os.environ[\"CLASSPATH\"] = \"/home/utkarsh/Semantics Extraction/stanford-parser\"\n"
   ]
  },
  {
   "cell_type": "code",
   "execution_count": null,
   "metadata": {},
   "outputs": [],
   "source": [
    "Here we initialize the StanfordParser and define the functions for extracting the subject, the predicate, and the object."
   ]
  }
 ],
 "metadata": {
  "language_info": {
   "codemirror_mode": {
    "name": "ipython",
    "version": 3
   },
   "file_extension": ".py",
   "mimetype": "text/x-python",
   "name": "python",
   "nbconvert_exporter": "python",
   "pygments_lexer": "ipython3",
   "version": 3
  },
  "orig_nbformat": 2
 },
 "nbformat": 4,
 "nbformat_minor": 2
}